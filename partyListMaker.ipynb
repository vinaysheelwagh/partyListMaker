{
  "nbformat": 4,
  "nbformat_minor": 0,
  "metadata": {
    "colab": {
      "name": "partyListMaker.ipynb",
      "provenance": []
    },
    "kernelspec": {
      "name": "python3",
      "display_name": "Python 3"
    }
  },
  "cells": [
    {
      "cell_type": "code",
      "metadata": {
        "colab": {
          "base_uri": "https://localhost:8080/"
        },
        "id": "bML2UQEcxATg",
        "outputId": "3d1be2e0-bf62-4d60-f9be-2ac0f9e247d6"
      },
      "source": [
        "pip install -r requirements.txt"
      ],
      "execution_count": 3,
      "outputs": [
        {
          "output_type": "stream",
          "text": [
            "Collecting pytest==3.2.1\n",
            "\u001b[?25l  Downloading https://files.pythonhosted.org/packages/e0/1e/d52c6a3a143935410ee33320341ea7bbb770ca8fe89c3d51e18254e0a2ba/pytest-3.2.1-py2.py3-none-any.whl (186kB)\n",
            "\u001b[K     |████████████████████████████████| 194kB 5.6MB/s \n",
            "\u001b[?25hCollecting demjson==2.2.4\n",
            "\u001b[?25l  Downloading https://files.pythonhosted.org/packages/96/67/6db789e2533158963d4af689f961b644ddd9200615b8ce92d6cad695c65a/demjson-2.2.4.tar.gz (131kB)\n",
            "\u001b[K     |████████████████████████████████| 133kB 15.5MB/s \n",
            "\u001b[?25hCollecting geopy==1.11.0\n",
            "\u001b[?25l  Downloading https://files.pythonhosted.org/packages/e0/fd/d1b3225959939907a1a87c3623a021742b3b9ef5db35c15cb916e18de42c/geopy-1.11.0-py2.py3-none-any.whl (66kB)\n",
            "\u001b[K     |████████████████████████████████| 71kB 4.7MB/s \n",
            "\u001b[?25hRequirement already satisfied: py>=1.4.33 in /usr/local/lib/python3.6/dist-packages (from pytest==3.2.1->-r requirements.txt (line 1)) (1.10.0)\n",
            "Requirement already satisfied: setuptools in /usr/local/lib/python3.6/dist-packages (from pytest==3.2.1->-r requirements.txt (line 1)) (53.0.0)\n",
            "Building wheels for collected packages: demjson\n",
            "  Building wheel for demjson (setup.py) ... \u001b[?25l\u001b[?25hdone\n",
            "  Created wheel for demjson: filename=demjson-2.2.4-cp36-none-any.whl size=73547 sha256=9c2194b4eb76971ce3798277b48fa3044459502959a9b3c062426964fda194ec\n",
            "  Stored in directory: /root/.cache/pip/wheels/c5/d2/ab/a54fb5ea53ac3badba098160e8452fa126a51febda80440ded\n",
            "Successfully built demjson\n",
            "\u001b[31mERROR: datascience 0.10.6 has requirement folium==0.2.1, but you'll have folium 0.8.3 which is incompatible.\u001b[0m\n",
            "Installing collected packages: pytest, demjson, geopy\n",
            "  Found existing installation: pytest 3.6.4\n",
            "    Uninstalling pytest-3.6.4:\n",
            "      Successfully uninstalled pytest-3.6.4\n",
            "  Found existing installation: geopy 1.17.0\n",
            "    Uninstalling geopy-1.17.0:\n",
            "      Successfully uninstalled geopy-1.17.0\n",
            "Successfully installed demjson-2.2.4 geopy-1.11.0 pytest-3.2.1\n"
          ],
          "name": "stdout"
        }
      ]
    },
    {
      "cell_type": "code",
      "metadata": {
        "colab": {
          "base_uri": "https://localhost:8080/"
        },
        "id": "iF_MKtboxHkf",
        "outputId": "34cf136b-a7d3-49dc-a2ec-c8529cd310b5"
      },
      "source": [
        "%cd src/\r\n"
      ],
      "execution_count": 4,
      "outputs": [
        {
          "output_type": "stream",
          "text": [
            "/content/partyListMaker/src\n"
          ],
          "name": "stdout"
        }
      ]
    },
    {
      "cell_type": "code",
      "metadata": {
        "id": "s-8mRO0xxaaq"
      },
      "source": [
        "!python3 app.py"
      ],
      "execution_count": 6,
      "outputs": []
    },
    {
      "cell_type": "code",
      "metadata": {
        "colab": {
          "base_uri": "https://localhost:8080/"
        },
        "id": "DWM28wRzMQ5s",
        "outputId": "0af58fe7-bc4b-414a-fa06-47b7c15654d5"
      },
      "source": [
        "!python -m pytest"
      ],
      "execution_count": 10,
      "outputs": [
        {
          "output_type": "stream",
          "text": [
            "\u001b[1m============================= test session starts ==============================\u001b[0m\n",
            "platform linux -- Python 3.6.9, pytest-3.2.1, py-1.10.0, pluggy-0.4.0\n",
            "rootdir: /content/partyListMaker/src, inifile:\n",
            "plugins: typeguard-2.7.1\n",
            "collected 7 items                                                               \u001b[0m\n",
            "\n",
            "test_app.py .......\n",
            "\n",
            "\u001b[32m\u001b[1m=========================== 7 passed in 0.25 seconds ===========================\u001b[0m\n"
          ],
          "name": "stdout"
        }
      ]
    },
    {
      "cell_type": "code",
      "metadata": {
        "id": "NAH1KUXQqiMw"
      },
      "source": [
        ""
      ],
      "execution_count": null,
      "outputs": []
    }
  ]
}